{
 "cells": [
  {
   "cell_type": "code",
   "execution_count": 3,
   "metadata": {
    "collapsed": true
   },
   "outputs": [],
   "source": [
    "\"\"\"\n",
    "This task is similar to the bag example of reading and performing operations on a json file, but this time it's using\n",
    "a dataframe. Dataframes can be much faster than bags.\n",
    "\"\"\"\n",
    "\n",
    "\n",
    "\n",
    "import dask.bag as db\n",
    "import os\n",
    "import json\n",
    "\n",
    "\n",
    "filename = os.path.join('../data', 'accounts.*.json.gz')\n",
    "lines = db.read_text(filename)\n",
    "lines.take(3)\n",
    "\n",
    "\n",
    "js = lines.map(json.loads)"
   ]
  },
  {
   "cell_type": "code",
   "execution_count": 4,
   "metadata": {},
   "outputs": [
    {
     "data": {
      "text/html": [
       "<div>\n",
       "<style>\n",
       "    .dataframe thead tr:only-child th {\n",
       "        text-align: right;\n",
       "    }\n",
       "\n",
       "    .dataframe thead th {\n",
       "        text-align: left;\n",
       "    }\n",
       "\n",
       "    .dataframe tbody tr th {\n",
       "        vertical-align: top;\n",
       "    }\n",
       "</style>\n",
       "<table border=\"1\" class=\"dataframe\">\n",
       "  <thead>\n",
       "    <tr style=\"text-align: right;\">\n",
       "      <th></th>\n",
       "      <th>id</th>\n",
       "      <th>name</th>\n",
       "      <th>transactions</th>\n",
       "    </tr>\n",
       "  </thead>\n",
       "  <tbody>\n",
       "    <tr>\n",
       "      <th>0</th>\n",
       "      <td>0</td>\n",
       "      <td>Norbert</td>\n",
       "      <td>[{u'transaction-id': 384, u'amount': 781}, {u'...</td>\n",
       "    </tr>\n",
       "    <tr>\n",
       "      <th>1</th>\n",
       "      <td>1</td>\n",
       "      <td>Tim</td>\n",
       "      <td>[{u'transaction-id': 890, u'amount': 826}, {u'...</td>\n",
       "    </tr>\n",
       "    <tr>\n",
       "      <th>2</th>\n",
       "      <td>2</td>\n",
       "      <td>Frank</td>\n",
       "      <td>[{u'transaction-id': 197, u'amount': 449}, {u'...</td>\n",
       "    </tr>\n",
       "    <tr>\n",
       "      <th>3</th>\n",
       "      <td>3</td>\n",
       "      <td>Xavier</td>\n",
       "      <td>[{u'transaction-id': 4021, u'amount': 2819}, {...</td>\n",
       "    </tr>\n",
       "    <tr>\n",
       "      <th>4</th>\n",
       "      <td>4</td>\n",
       "      <td>Hannah</td>\n",
       "      <td>[{u'transaction-id': 1266, u'amount': 1302}, {...</td>\n",
       "    </tr>\n",
       "  </tbody>\n",
       "</table>\n",
       "</div>"
      ],
      "text/plain": [
       "   id     name                                       transactions\n",
       "0   0  Norbert  [{u'transaction-id': 384, u'amount': 781}, {u'...\n",
       "1   1      Tim  [{u'transaction-id': 890, u'amount': 826}, {u'...\n",
       "2   2    Frank  [{u'transaction-id': 197, u'amount': 449}, {u'...\n",
       "3   3   Xavier  [{u'transaction-id': 4021, u'amount': 2819}, {...\n",
       "4   4   Hannah  [{u'transaction-id': 1266, u'amount': 1302}, {..."
      ]
     },
     "execution_count": 4,
     "metadata": {},
     "output_type": "execute_result"
    }
   ],
   "source": [
    "#Takes the firs few rows of the csv file\n",
    "df1 = js.to_dataframe()\n",
    "df1.head()"
   ]
  },
  {
   "cell_type": "code",
   "execution_count": 5,
   "metadata": {},
   "outputs": [
    {
     "name": "stdout",
     "output_type": "stream",
     "text": [
      "CPU times: user 12.3 s, sys: 844 ms, total: 13.2 s\n",
      "Wall time: 14.1 s\n"
     ]
    },
    {
     "data": {
      "text/plain": [
       "name\n",
       "Alice       998\n",
       "Bob         800\n",
       "Charlie    1050\n",
       "Dan        1200\n",
       "Edith       600\n",
       "Name: id, dtype: int64"
      ]
     },
     "execution_count": 5,
     "metadata": {},
     "output_type": "execute_result"
    }
   ],
   "source": [
    "%time df1.groupby('name').id.count().compute().head()"
   ]
  },
  {
   "cell_type": "code",
   "execution_count": 6,
   "metadata": {},
   "outputs": [
    {
     "data": {
      "text/plain": [
       "({'amount': 781, 'id': 0, 'name': u'Norbert', 'transaction-id': 384},\n",
       " {'amount': 835, 'id': 0, 'name': u'Norbert', 'transaction-id': 7392},\n",
       " {'amount': 813, 'id': 0, 'name': u'Norbert', 'transaction-id': 7774})"
      ]
     },
     "execution_count": 6,
     "metadata": {},
     "output_type": "execute_result"
    }
   ],
   "source": [
    "#denormalizing the data since transaction contains nested data\n",
    "def denormalize(record):\n",
    "    # returns a list for every nested item, each transaction of each person\n",
    "    return [{'id': record['id'], \n",
    "             'name': record['name'], \n",
    "             'amount': transaction['amount'], \n",
    "             'transaction-id': transaction['transaction-id']}\n",
    "            for transaction in record['transactions']]\n",
    "\n",
    "transactions = js.map(denormalize).flatten()\n",
    "transactions.take(3)"
   ]
  },
  {
   "cell_type": "code",
   "execution_count": 7,
   "metadata": {},
   "outputs": [
    {
     "data": {
      "text/html": [
       "<div>\n",
       "<style>\n",
       "    .dataframe thead tr:only-child th {\n",
       "        text-align: right;\n",
       "    }\n",
       "\n",
       "    .dataframe thead th {\n",
       "        text-align: left;\n",
       "    }\n",
       "\n",
       "    .dataframe tbody tr th {\n",
       "        vertical-align: top;\n",
       "    }\n",
       "</style>\n",
       "<table border=\"1\" class=\"dataframe\">\n",
       "  <thead>\n",
       "    <tr style=\"text-align: right;\">\n",
       "      <th></th>\n",
       "      <th>amount</th>\n",
       "      <th>id</th>\n",
       "      <th>name</th>\n",
       "      <th>transaction-id</th>\n",
       "    </tr>\n",
       "  </thead>\n",
       "  <tbody>\n",
       "    <tr>\n",
       "      <th>0</th>\n",
       "      <td>781</td>\n",
       "      <td>0</td>\n",
       "      <td>Norbert</td>\n",
       "      <td>384</td>\n",
       "    </tr>\n",
       "    <tr>\n",
       "      <th>1</th>\n",
       "      <td>835</td>\n",
       "      <td>0</td>\n",
       "      <td>Norbert</td>\n",
       "      <td>7392</td>\n",
       "    </tr>\n",
       "    <tr>\n",
       "      <th>2</th>\n",
       "      <td>813</td>\n",
       "      <td>0</td>\n",
       "      <td>Norbert</td>\n",
       "      <td>7774</td>\n",
       "    </tr>\n",
       "    <tr>\n",
       "      <th>3</th>\n",
       "      <td>786</td>\n",
       "      <td>0</td>\n",
       "      <td>Norbert</td>\n",
       "      <td>10731</td>\n",
       "    </tr>\n",
       "    <tr>\n",
       "      <th>4</th>\n",
       "      <td>817</td>\n",
       "      <td>0</td>\n",
       "      <td>Norbert</td>\n",
       "      <td>12310</td>\n",
       "    </tr>\n",
       "  </tbody>\n",
       "</table>\n",
       "</div>"
      ],
      "text/plain": [
       "   amount  id     name  transaction-id\n",
       "0     781   0  Norbert             384\n",
       "1     835   0  Norbert            7392\n",
       "2     813   0  Norbert            7774\n",
       "3     786   0  Norbert           10731\n",
       "4     817   0  Norbert           12310"
      ]
     },
     "execution_count": 7,
     "metadata": {},
     "output_type": "execute_result"
    }
   ],
   "source": [
    "df = transactions.to_dataframe()\n",
    "df.head()"
   ]
  },
  {
   "cell_type": "code",
   "execution_count": 8,
   "metadata": {},
   "outputs": [
    {
     "name": "stdout",
     "output_type": "stream",
     "text": [
      "CPU times: user 22.9 s, sys: 2.39 s, total: 25.3 s\n",
      "Wall time: 24.8 s\n"
     ]
    },
    {
     "data": {
      "text/plain": [
       "name\n",
       "Alice       234975\n",
       "Bob         143834\n",
       "Charlie     182846\n",
       "Dan         170550\n",
       "Edith        84646\n",
       "Frank       208614\n",
       "George      178682\n",
       "Hannah      225780\n",
       "Ingrid      173676\n",
       "Jerry       108890\n",
       "Kevin       243328\n",
       "Laura       181119\n",
       "Michael     197105\n",
       "Norbert     174424\n",
       "Oliver      194031\n",
       "Patricia    260822\n",
       "Quinn       189476\n",
       "Ray         173602\n",
       "Sarah       185210\n",
       "Tim         314221\n",
       "Ursula      255097\n",
       "Victor      223240\n",
       "Wendy       150050\n",
       "Xavier      219629\n",
       "Yvonne      174347\n",
       "Zelda       151806\n",
       "Name: transaction-id, dtype: int64"
      ]
     },
     "execution_count": 8,
     "metadata": {},
     "output_type": "execute_result"
    }
   ],
   "source": [
    "%%time\n",
    "# number of transactions per name\n",
    "# note that the time here includes the data load and ingestion\n",
    "df.groupby('name')['transaction-id'].count().compute()"
   ]
  },
  {
   "cell_type": "code",
   "execution_count": null,
   "metadata": {
    "collapsed": true
   },
   "outputs": [],
   "source": []
  }
 ],
 "metadata": {
  "kernelspec": {
   "display_name": "Python 3",
   "language": "python",
   "name": "python3"
  },
  "language_info": {
   "codemirror_mode": {
    "name": "ipython",
    "version": 3
   },
   "file_extension": ".py",
   "mimetype": "text/x-python",
   "name": "python",
   "nbconvert_exporter": "python",
   "pygments_lexer": "ipython3",
   "version": "3.6.1"
  }
 },
 "nbformat": 4,
 "nbformat_minor": 2
}
